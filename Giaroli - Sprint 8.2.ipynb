{
 "cells": [
  {
   "cell_type": "markdown",
   "metadata": {},
   "source": [
    "# SPRINT 8 - TASCA 2:\n",
    "\n",
    "## Nivel 1"
   ]
  },
  {
   "cell_type": "markdown",
   "metadata": {},
   "source": [
    "* Conectamos Python con Power BI"
   ]
  },
  {
   "cell_type": "code",
   "execution_count": 4,
   "metadata": {},
   "outputs": [],
   "source": [
    "# Instaladas las librerías necesarias, las importamos \n",
    "import pandas as pd\n",
    "from sqlalchemy import create_engine\n",
    "\n",
    "# Conectamos a la base de datos\n",
    "host ='localhost'\n",
    "database='transactionsT4'\n",
    "user='root'\n",
    "password='4443'\n",
    "\n",
    "cadena_conexion = f'mysql+mysqlconnector://{user}:{password}@{host}/{database}' # Creamos una cadena de conexión\n",
    "\n",
    "motor = create_engine(cadena_conexion) # Creamos el motor de conexión\n",
    "\n",
    "# Creamos una lista de las tablas a cargar\n",
    "nombres_tablas = ['transactions', 'credit_cards', 'companies', 'products_per_transactions', 'products', 'users_all']\n",
    "\n",
    "# Usamos el método globals() y con un bucle for leemos cada tabla en un DataFrame para almacenarlo en el diccionario\n",
    "for nombre in nombres_tablas:\n",
    "    query = f'SELECT * FROM {nombre}'\n",
    "    df_name = f'df_{nombre}'\n",
    "    globals()[df_name] = pd.read_sql(query, con=motor)\n",
    "\n",
    "# Llamamos a cada tabla del diccionario\n",
    "transactions = df_transactions\n",
    "creditcards = df_credit_cards\n",
    "companies = df_companies\n",
    "ppt = df_products_per_transactions\n",
    "products = df_products\n",
    "users = df_users_all"
   ]
  },
  {
   "cell_type": "markdown",
   "metadata": {},
   "source": [
    "## Ejercicio 1 - Una variable numérica: Recuento de ID products"
   ]
  },
  {
   "cell_type": "code",
   "execution_count": null,
   "metadata": {},
   "outputs": [],
   "source": [
    "# Importamos librerías\n",
    "import matplotlib.pyplot as plt\n",
    "import pandas as pd\n",
    "import seaborn as sns\n",
    "\n",
    "sns.countplot(data=df_products_per_transactions, x='id_product') # en PowerBI: sns.countplot(dataset, x='id_product')\n",
    "\n",
    "# Añadimos etiquetas y título\n",
    "plt.xlabel('ID Producto')  # Etiqueta para el eje x\n",
    "plt.ylabel('Cantidad')   # Etiqueta para el eje y\n",
    "plt.title('Productos demandados')\n",
    "\n",
    "# Mostramos el gráfico\n",
    "plt.show()"
   ]
  },
  {
   "cell_type": "markdown",
   "metadata": {},
   "source": [
    "## Ejercicio 2 - dos variables numéricas: Precio y Peso"
   ]
  },
  {
   "cell_type": "code",
   "execution_count": null,
   "metadata": {},
   "outputs": [],
   "source": [
    "import matplotlib.pyplot as plt\n",
    "import pandas as pd\n",
    "import numpy as np\n",
    "\n",
    "# Ordenamos los datos por 'peso' y luego por 'precio'\n",
    "data = dataset.sort_values(by=['weight', 'price'])\n",
    "\n",
    "# Creamos el gráfico de dispersión\n",
    "scatter = plt.scatter(data['weight'], data['price'], c='mediumseagreen', s=100)\n",
    "\n",
    "# Añadimos etiquetas y título\n",
    "plt.xlabel('Peso')       \n",
    "plt.ylabel('Precio')     \n",
    "plt.title('Relación entre Precio y Peso')\n",
    "\n",
    "\n",
    "# Controlamos la densidad de las etiquetas del eje y para mejorar la legibilidad\n",
    "from matplotlib.ticker import MaxNLocator\n",
    "plt.gca().yaxis.set_major_locator(MaxNLocator(nbins=10))\n",
    "\n",
    "# Mostramos el gráfico\n",
    "plt.show()"
   ]
  },
  {
   "cell_type": "markdown",
   "metadata": {},
   "source": [
    "## Ejercicio 3 - Una variable categòrica: Usuarios por País"
   ]
  },
  {
   "cell_type": "code",
   "execution_count": null,
   "metadata": {},
   "outputs": [],
   "source": [
    "# Importamos las librerías\n",
    "import seaborn as sns\n",
    "import matplotlib.pyplot as plt\n",
    "\n",
    "\n",
    "# Creamos el gráfico de conteo, \n",
    "plt.figure(figsize=(12, 6))  # Ajustamos el tamaño de la figura \n",
    "sns.countplot(y=dataset['country'], data=dataset, palette='viridis', width=0.5)\n",
    "\n",
    "# Añadimos etiquetas y título\n",
    "plt.xlabel('Cantidad de Usuarios', fontsize=14)\n",
    "plt.ylabel('País', fontsize=12)\n",
    "plt.title('Cantidad de Usuarios por País', fontsize=18)\n",
    "plt.xticks(fontsize=12)  # Ajusta el tamaño de fuente de las etiquetas del eje X\n",
    "plt.yticks(fontsize=12)\n",
    "\n",
    "# Mostramos el gráfico\n",
    "plt.show()\n"
   ]
  },
  {
   "cell_type": "markdown",
   "metadata": {},
   "source": [
    "## Ejercicio 4 - Una variable categórica y una numérica: Monto y Países"
   ]
  },
  {
   "cell_type": "code",
   "execution_count": null,
   "metadata": {},
   "outputs": [],
   "source": [
    "import matplotlib.pyplot as plt\n",
    "import pandas as pd\n",
    "\n",
    "# Agrupamos los datos por país y calculamos la suma de las transacciones para cada país\n",
    "transacciones_por_pais = dataset.groupby('country')['amount'].sum()\n",
    "\n",
    "# Creamos el gráfico de pastel\n",
    "plt.figure(figsize=(6, 6))  # Ajustamos el tamaño de la figura \n",
    "plt.pie(transacciones_por_pais, \n",
    "        labels=transacciones_por_pais.index, #etiquetas según el índice de la variable transacciones_por_pais (sería país)\n",
    "        autopct='%1.1f%%',  #formato del número, float, con un decimal y símbolo de porcentaje\n",
    "        startangle=140,     #ángulo donde comienza a dibujarse el pastel\n",
    "        textprops={'fontsize': 8.5},    #tamaño del texto\n",
    "        pctdistance=0.9,                #distancia de los porcentajes\n",
    "        labeldistance=1.2,              #distancia de las etiquetas\n",
    "        colors = plt.cm.tab20c.colors) #seleccionamos una paleta con 20 colores para que no se repitan\n",
    "\n",
    "# Añadimos título\n",
    "plt.title('Total de Transacciones por País')\n",
    "\n",
    "# Mostramos el gráfico\n",
    "plt.show()\n"
   ]
  },
  {
   "cell_type": "markdown",
   "metadata": {},
   "source": [
    "## Ejercicio 5 - Dos variables categóricas: Países y Declined"
   ]
  },
  {
   "cell_type": "code",
   "execution_count": null,
   "metadata": {},
   "outputs": [],
   "source": [
    "import pandas as pd\n",
    "import matplotlib.pyplot as plt\n",
    "\n",
    "# Separamos en dos tablas a partir del 'dataset'\n",
    "companies = dataset[['company_id', 'country']]\n",
    "transactions = dataset[['business_id', 'declined']]\n",
    "\n",
    "# Unimos las tablas 'transactions' y 'companies' por los campos 'business_id' y 'company_id'\n",
    "datos = pd.merge(transactions, companies, how='inner', left_on='business_id', right_on='company_id')\n",
    "\n",
    "# Agrupamos los datos por país y contamos las transacciones declinadas\n",
    "# Con unstack() pivotamos el índice interno del dataframe resultante para generar columnas con los valores únicos de 'declined'\n",
    "agrupados = datos.groupby('country')['declined'].value_counts().unstack()\n",
    "\n",
    "# Renombramos las columnas para que en el gráfico, en lugar de 1 y 0, diga Aceptadas y Rechazadas con el atributo .columns\n",
    "agrupados.columns = ['Aceptadas', 'Rechazadas']\n",
    "\n",
    "# Graficamos\n",
    "agrupados.plot(kind='bar', stacked=True, fontsize=7)  # Con stacked=True hacemos que las columnas sean apiladas\n",
    "\n",
    "# Colocamos título y etiquetas a los ejes\n",
    "plt.title('Estado de las transacciones por países')\n",
    "plt.xlabel('País')\n",
    "plt.ylabel('Cantidad de Transacciones')\n",
    "\n",
    "# Rotamos las etiquetas del eje x\n",
    "plt.xticks(rotation=60)\n",
    "\n",
    "\n",
    "plt.show()"
   ]
  },
  {
   "cell_type": "markdown",
   "metadata": {},
   "source": [
    "## Ejercicio 6 - Tres Variables: Recuento de Transacciones por Edad y País\n"
   ]
  },
  {
   "cell_type": "code",
   "execution_count": null,
   "metadata": {},
   "outputs": [],
   "source": [
    "import pandas as pd\n",
    "import matplotlib.pyplot as plt\n",
    "import numpy as np\n",
    "\n",
    "\n",
    "# Convertimos birth_date a datetime y calculamos la edad\n",
    "dataset['birth_date'] = pd.to_datetime(dataset['birth_date']) \n",
    "dataset['age'] = (pd.Timestamp.now() - dataset['birth_date']).dt.days // 365  #// es una división entera que redondea al número entero hacia abajo \n",
    "\n",
    "# Creamos grupos de edad\n",
    "bins = [0, 19, 36, 51, np.inf] #np.inf es como si fuera un límite infinito\n",
    "labels = ['0-18', '19-35', '36-50', '51+']\n",
    "dataset['age_group'] = pd.cut(dataset['age'], bins=bins, labels=labels, right=False) #right=False indica intervalos semi-abiertos en el extremo derecho ej: [19, 36) \n",
    "\n",
    "# Agrupamos los datos por país y por grupo de edad y contamos las transacciones\n",
    "grouped = dataset.groupby(['country', 'age_group'], observed=False).size().unstack(fill_value=0) #size() cuenta la cantidad de filas por grupo en el df\n",
    "\n",
    "# Creamos el gráfico de barras agrupadas, damos formato a tamaño y texto\n",
    "grouped.plot(kind='bar', stacked=False, figsize=(6, 6), rot=0, fontsize=12)\n",
    "\n",
    "# Colocamos título y etiquetas a los ejes\n",
    "plt.title('Recuento de Transacciones por País y Grupo de Edad')\n",
    "plt.xlabel('País')\n",
    "plt.ylabel('Cantidad de Transacciones')\n",
    "plt.legend(title='Grupo de Edad')\n",
    "\n",
    "# Mostramos el gráfico\n",
    "plt.show()"
   ]
  },
  {
   "cell_type": "markdown",
   "metadata": {},
   "source": [
    "## Ejercicio 7 - Graficar un Pairplot (df Transactions y Companies)"
   ]
  },
  {
   "cell_type": "code",
   "execution_count": null,
   "metadata": {},
   "outputs": [],
   "source": [
    "import matplotlib.pyplot as plt\n",
    "import seaborn as sns\n",
    "import pandas as pd\n",
    "\n",
    "# Separamos en dos tablas a partir del dataset\n",
    "companies = dataset[['company_id', 'country']]\n",
    "transactions = dataset[['amount', 'business_id', 'declined','user_id']]\n",
    "\n",
    "# Unimos los DataFrames \n",
    "datosmerged = pd.merge(transactions, companies, left_on='business_id', right_on='company_id')\n",
    "\n",
    "# Graficamos\n",
    "sns.pairplot(data=datosmerged, hue=\"country\") #diferenciamos los países por color para poder tener otro nivel de análisis\n",
    "\n",
    "plt.show()\n"
   ]
  },
  {
   "cell_type": "markdown",
   "metadata": {},
   "source": [
    "# Nivel 2\n",
    "## Ejercicio 1: Correlación de todas las variables numéricas\n"
   ]
  },
  {
   "cell_type": "code",
   "execution_count": null,
   "metadata": {},
   "outputs": [],
   "source": [
    "import seaborn as sns\n",
    "import pandas as pd\n",
    "import numpy as np\n",
    "import matplotlib.pyplot as plt\n",
    "\n",
    "# Seleccionamos los campos que queremos analizar\n",
    "seleccion = dataset[['amount', 'user_id','declined', 'id_product', 'price', 'weight']]\n",
    "\n",
    "# Primero calculamos la matriz de correlación, redondeamos a 2 decimales\n",
    "matriz_correlacion = seleccion.corr().round(2)\n",
    "\n",
    "# Configuramos el tamaño del gráfico\n",
    "plt.figure(figsize=(6, 6))\n",
    "\n",
    "# Creamos el heatmap\n",
    "sns.heatmap(matriz_correlacion,\n",
    "            annot=True,      #annot=true añade los valores a los recuadros\n",
    "            cmap='coolwarm', # con esto le damos el estilo de colores\n",
    "            vmin=-1, vmax=1) # establecemos valores máximos y mínimos para que coincida con el coeficiente de correlación\n",
    "\n",
    "# Mostramos el gráfico\n",
    "plt.title('Matriz de Correlación')\n",
    "plt.show()"
   ]
  },
  {
   "cell_type": "markdown",
   "metadata": {},
   "source": [
    "## Ejercicio 2: implementa un jointplot"
   ]
  },
  {
   "cell_type": "code",
   "execution_count": null,
   "metadata": {},
   "outputs": [],
   "source": [
    "# Queremos analizar la relación entre id_usuario y amount, pero también colorear según el país de usuario\n",
    "\n",
    "import seaborn as sns\n",
    "import pandas as pd\n",
    "import numpy as np\n",
    "import matplotlib.pyplot as plt\n",
    "\n",
    "# Definimos el tamaño del lienzo, la paleta de colores y el estilo\n",
    "plt.figure(figsize=(12, 10))\n",
    "\n",
    "# Creamos el gráfico y colocamos etiquetas a los ejes\n",
    "grafico = sns.jointplot(x='user_id', y='amount', data=dataset, hue='country')\n",
    "plt.xlabel('ID usuario')\n",
    "plt.ylabel('Importe(€)')\n",
    "\n",
    "# Reubicamos la leyenda\n",
    "grafico.ax_joint.legend(loc='upper right', bbox_to_anchor=(1, 1))\n",
    "\n",
    "plt.show()"
   ]
  },
  {
   "cell_type": "markdown",
   "metadata": {},
   "source": [
    "# Nivel 3\n",
    "## Ejercicio 1: Implementa un Violinplot combinado con otro tipo de gráfico"
   ]
  },
  {
   "cell_type": "code",
   "execution_count": null,
   "metadata": {},
   "outputs": [],
   "source": [
    "import seaborn as sns\n",
    "import pandas as pd\n",
    "import numpy as np\n",
    "import matplotlib.pyplot as plt\n",
    "\n",
    "# Creamos el lienzo para colocar los dos gráficos con una fila y dos columnas\n",
    "fig, axs = plt.subplots(1, 2, figsize=(12, 6)) \n",
    "\n",
    "# Nombramos ax1 y ax2 a cada uno de los gráficos para que sea más fácil trabajar con sus títulos y ejes\n",
    "# Primer gráfico: violinplot\n",
    "ax1 = sns.violinplot(x='amount', \n",
    "               y='country', \n",
    "               hue='declined', \n",
    "               data= dataset, \n",
    "               ax=axs[0]) \n",
    "\n",
    "# Cambiamos el nombre de los ejes y añadimos título al primer gráfico\n",
    "ax1.set_xlabel(\"Importe(€)\", fontsize=14)\n",
    "ax1.set_ylabel(\"País\", fontsize=14)\n",
    "ax1.set_title('Distribución del Importe', fontsize=16)\n",
    "\n",
    "# Para el segundo gráfico filtraremos el df sólo por las transacciones declinadas para ver la relación entre user_id y amount en un gráfico de dispersión\n",
    "transacciones_declinadas = dataset[dataset['declined'] == 1]\n",
    "\n",
    "# Segundo gráfico: gráfico de dispersión\n",
    "ax2 = axs[1].scatter(x=transacciones_declinadas['user_id'], #el eje al usar matplot se pasa antes! no como parámetro como en seaborn\n",
    "                     y=transacciones_declinadas['amount'])\n",
    "\n",
    "# Cambiamos el nombre de los ejes y añadimos el título para el segundo gráfico\n",
    "axs[1].set_xlabel('ID Usuario', fontsize=14)\n",
    "axs[1].set_ylabel('Importe', fontsize=14)\n",
    "axs[1].set_title('Transacciones declinadas: usuario vs. Importe', fontsize=16)\n",
    "\n",
    "fig.tight_layout() #Ajusta automáticamente los parámetros para que se ajusten dentro de la figura\n",
    "\n",
    "plt.show()"
   ]
  },
  {
   "cell_type": "markdown",
   "metadata": {},
   "source": [
    "## Ejercicio 2: FacetGrid"
   ]
  },
  {
   "cell_type": "code",
   "execution_count": null,
   "metadata": {},
   "outputs": [],
   "source": [
    "import seaborn as sns\n",
    "import pandas as pd\n",
    "import numpy as np\n",
    "import matplotlib.pyplot as plt\n",
    "\n",
    "\n",
    "# Seleccionamos los campos que queremos analizar\n",
    "datos_seleccionados = dataset[['amount', 'declined', 'country']]\n",
    "\n",
    "# Graficamos\n",
    "plt.figure(figsize=(12, 10)) \n",
    "g = sns.FacetGrid(datos_seleccionados, col='country', col_wrap = 5, hue= 'declined')\n",
    "g.map(plt.hist, 'amount')\n",
    "\n",
    "# Añadimos la leyenda\n",
    "g.add_legend()\n",
    "g.set_ylabels('Cantidad')\n",
    "\n",
    "#Colocamos título\n",
    "plt.subplots_adjust(top=0.9)  # Ajusta el espacio superior para dar espacio al título\n",
    "g.fig.suptitle('Importe, Cantidad y Estado de las Transacciones por País') #suptitle coloca el título en la parte de arriba\n",
    "\n",
    "plt.show()"
   ]
  }
 ],
 "metadata": {
  "kernelspec": {
   "display_name": "Python 3",
   "language": "python",
   "name": "python3"
  },
  "language_info": {
   "codemirror_mode": {
    "name": "ipython",
    "version": 3
   },
   "file_extension": ".py",
   "mimetype": "text/x-python",
   "name": "python",
   "nbconvert_exporter": "python",
   "pygments_lexer": "ipython3",
   "version": "3.12.3"
  }
 },
 "nbformat": 4,
 "nbformat_minor": 2
}
