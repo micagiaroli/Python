{
 "cells": [
  {
   "cell_type": "markdown",
   "metadata": {},
   "source": [
    "### Bibliotecas útiles"
   ]
  },
  {
   "cell_type": "code",
   "execution_count": null,
   "metadata": {},
   "outputs": [],
   "source": [
    "import math\n",
    "import statistics\n",
    "import numpy as np\n",
    "import scipy.stats\n",
    "import pandas as pd"
   ]
  },
  {
   "cell_type": "markdown",
   "metadata": {},
   "source": [
    "### Matrices y Series"
   ]
  },
  {
   "cell_type": "code",
   "execution_count": 1,
   "metadata": {},
   "outputs": [
    {
     "name": "stdout",
     "output_type": "stream",
     "text": [
      "y:\n",
      "[ 8.   1.   2.5  4.  28. ]\n",
      "\n",
      "y_with_nan:\n",
      "[ 8.   1.   2.5  nan  4.  28. ]\n",
      "\n",
      "z:\n",
      "0     8.0\n",
      "1     1.0\n",
      "2     2.5\n",
      "3     4.0\n",
      "4    28.0\n",
      "dtype: float64\n",
      "\n",
      "z_with_nan:\n",
      "0     8.0\n",
      "1     1.0\n",
      "2     2.5\n",
      "3     NaN\n",
      "4     4.0\n",
      "5    28.0\n",
      "dtype: float64\n"
     ]
    }
   ],
   "source": [
    "import numpy as np\n",
    "import pandas as pd\n",
    "\n",
    "# Define the lists\n",
    "x = [8.0, 1, 2.5, 4, 28.0]\n",
    "x_with_nan = [8.0, 1, 2.5, float('nan'), 4, 28.0]\n",
    "\n",
    "# Convert lists to arrays using numpy\n",
    "y, y_with_nan = np.array(x), np.array(x_with_nan)\n",
    "\n",
    "# Convert lists to pandas Series\n",
    "z, z_with_nan = pd.Series(x), pd.Series(x_with_nan)\n",
    "\n",
    "# Print the results\n",
    "print(\"y:\")\n",
    "print(y)\n",
    "print(\"\\ny_with_nan:\")\n",
    "print(y_with_nan)\n",
    "print(\"\\nz:\")\n",
    "print(z)\n",
    "print(\"\\nz_with_nan:\")\n",
    "print(z_with_nan)"
   ]
  },
  {
   "cell_type": "markdown",
   "metadata": {},
   "source": [
    "### Media y Varianza"
   ]
  },
  {
   "cell_type": "code",
   "execution_count": 23,
   "metadata": {},
   "outputs": [
    {
     "name": "stdout",
     "output_type": "stream",
     "text": [
      "a: [[ 1  1  1]\n",
      " [ 2  3  1]\n",
      " [ 4  9  2]\n",
      " [ 8 27  4]\n",
      " [16  1  1]]\n",
      "mean_a: 5.4\n",
      "var_a: 53.40000000000001\n",
      "[6.2 8.2 1.8]\n"
     ]
    }
   ],
   "source": [
    "a = np.array([[1, 1, 1],\n",
    "            [2, 3, 1],\n",
    "            [4, 9, 2],\n",
    "            [8, 27, 4],\n",
    "            [16, 1, 1]])\n",
    "\n",
    "print('a:', a)\n",
    "mean_a= np.mean(a)\n",
    "print('mean_a:', mean_a)\n",
    "\n",
    "var_a= a.var(ddof=1)\n",
    "print('var_a:', var_a)\n",
    "\n",
    "print(np.mean(a, axis= 0))"
   ]
  },
  {
   "cell_type": "markdown",
   "metadata": {},
   "source": [
    "### Dataframes"
   ]
  },
  {
   "cell_type": "code",
   "execution_count": 24,
   "metadata": {},
   "outputs": [
    {
     "name": "stdout",
     "output_type": "stream",
     "text": [
      "         A   B  C\n",
      "first    1   1  1\n",
      "second   2   3  1\n",
      "third    4   9  2\n",
      "fourth   8  27  4\n",
      "fifth   16   1  1\n"
     ]
    }
   ],
   "source": [
    "\n",
    "row_names = ['first', 'second', 'third', 'fourth', 'fifth']\n",
    "col_names = ['A', 'B', 'C']\n",
    "df = pd.DataFrame(a, index=row_names, columns=col_names)\n",
    "print(df)"
   ]
  },
  {
   "cell_type": "markdown",
   "metadata": {},
   "source": [
    "### Media en DataFrames"
   ]
  },
  {
   "cell_type": "code",
   "execution_count": 39,
   "metadata": {},
   "outputs": [
    {
     "name": "stdout",
     "output_type": "stream",
     "text": [
      "media por columnas A    6.2\n",
      "B    8.2\n",
      "C    1.8\n",
      "dtype: float64\n",
      "media col_A: 6.2\n",
      "[[ 1  1  1]\n",
      " [ 2  3  1]\n",
      " [ 4  9  2]\n",
      " [ 8 27  4]\n",
      " [16  1  1]]\n"
     ]
    },
    {
     "data": {
      "text/html": [
       "<div>\n",
       "<style scoped>\n",
       "    .dataframe tbody tr th:only-of-type {\n",
       "        vertical-align: middle;\n",
       "    }\n",
       "\n",
       "    .dataframe tbody tr th {\n",
       "        vertical-align: top;\n",
       "    }\n",
       "\n",
       "    .dataframe thead th {\n",
       "        text-align: right;\n",
       "    }\n",
       "</style>\n",
       "<table border=\"1\" class=\"dataframe\">\n",
       "  <thead>\n",
       "    <tr style=\"text-align: right;\">\n",
       "      <th></th>\n",
       "      <th>A</th>\n",
       "      <th>B</th>\n",
       "      <th>C</th>\n",
       "    </tr>\n",
       "  </thead>\n",
       "  <tbody>\n",
       "    <tr>\n",
       "      <th>count</th>\n",
       "      <td>5.00000</td>\n",
       "      <td>5.000000</td>\n",
       "      <td>5.00000</td>\n",
       "    </tr>\n",
       "    <tr>\n",
       "      <th>mean</th>\n",
       "      <td>6.20000</td>\n",
       "      <td>8.200000</td>\n",
       "      <td>1.80000</td>\n",
       "    </tr>\n",
       "    <tr>\n",
       "      <th>std</th>\n",
       "      <td>6.09918</td>\n",
       "      <td>11.009087</td>\n",
       "      <td>1.30384</td>\n",
       "    </tr>\n",
       "    <tr>\n",
       "      <th>min</th>\n",
       "      <td>1.00000</td>\n",
       "      <td>1.000000</td>\n",
       "      <td>1.00000</td>\n",
       "    </tr>\n",
       "    <tr>\n",
       "      <th>25%</th>\n",
       "      <td>2.00000</td>\n",
       "      <td>1.000000</td>\n",
       "      <td>1.00000</td>\n",
       "    </tr>\n",
       "    <tr>\n",
       "      <th>50%</th>\n",
       "      <td>4.00000</td>\n",
       "      <td>3.000000</td>\n",
       "      <td>1.00000</td>\n",
       "    </tr>\n",
       "    <tr>\n",
       "      <th>75%</th>\n",
       "      <td>8.00000</td>\n",
       "      <td>9.000000</td>\n",
       "      <td>2.00000</td>\n",
       "    </tr>\n",
       "    <tr>\n",
       "      <th>max</th>\n",
       "      <td>16.00000</td>\n",
       "      <td>27.000000</td>\n",
       "      <td>4.00000</td>\n",
       "    </tr>\n",
       "  </tbody>\n",
       "</table>\n",
       "</div>"
      ],
      "text/plain": [
       "              A          B        C\n",
       "count   5.00000   5.000000  5.00000\n",
       "mean    6.20000   8.200000  1.80000\n",
       "std     6.09918  11.009087  1.30384\n",
       "min     1.00000   1.000000  1.00000\n",
       "25%     2.00000   1.000000  1.00000\n",
       "50%     4.00000   3.000000  1.00000\n",
       "75%     8.00000   9.000000  2.00000\n",
       "max    16.00000  27.000000  4.00000"
      ]
     },
     "execution_count": 39,
     "metadata": {},
     "output_type": "execute_result"
    }
   ],
   "source": [
    "print('media por columnas', df.mean()) ## calcula le media para cada columna\n",
    "\n",
    "print('media col_A:', df['A'].mean()) ## calcula la media sólo para la columna A\n",
    "\n",
    "print(df.values) ## obtenemos los valores de un DF\n",
    "\n",
    "df.describe() ## devuelve los estadísitos descriptivos para cada columna\n"
   ]
  },
  {
   "cell_type": "markdown",
   "metadata": {},
   "source": [
    "### Visualizaciones"
   ]
  },
  {
   "cell_type": "markdown",
   "metadata": {},
   "source": [
    "#### DIAGRAMA DE CAJA"
   ]
  },
  {
   "cell_type": "code",
   "execution_count": 47,
   "metadata": {},
   "outputs": [],
   "source": [
    "import matplotlib.pyplot as plt # importamos libreria\n",
    "plt.style.use('ggplot') ##establecemos estilo de visualización de las gráficas de tipo ggplot (colores pasteles y líneas delgadas)\n",
    "\n",
    "np.random.seed(seed=0) #seteamos la semilla para obtener siempre el mismo resultado de números random\n",
    "x = np.random.randn(1000) #creamos matriz random con 1000 items\n",
    "y = np.random.randn(100) #creamos matriz random con 100 items\n",
    "z = np.random.randn(10) #creamos matriz random con 10 items"
   ]
  },
  {
   "cell_type": "code",
   "execution_count": 66,
   "metadata": {},
   "outputs": [
    {
     "data": {
      "image/png": "[encoded data removed]",
      "text/plain": [
       "<Figure size 640x480 with 1 Axes>"
      ]
     },
     "metadata": {},
     "output_type": "display_data"
    }
   ],
   "source": [
    "fig, ax = plt.subplots()  #creamos una figura llamada fig de un solo eje (ax), usando la libreria matplot (plt) es el lienzo donde haremos el gráfico\n",
    "ax.boxplot((x, y, z), vert=False, showmeans=True, meanline=True, # creamos gráfico de caja, asignamos valores a los ejes, vert=FALSE->es HORIZONTAL, VERDADERO a media y mediana\n",
    "           labels=('x', 'y', 'z'), patch_artist=True, #etiquetas, patch artist permite colorear las cajas\n",
    "           medianprops={'linewidth': 2, 'color': 'orange'}, #linea de la mediana de grosor 2 y color naranja\n",
    "           meanprops={'linewidth': 2, 'color': 'pink'})  ##linea de la media de grosor 2 y color rosa\n",
    "plt.show() #mostramos el gráfico"
   ]
  },
  {
   "cell_type": "markdown",
   "metadata": {},
   "source": [
    "#### HISTOGRAMA"
   ]
  },
  {
   "cell_type": "code",
   "execution_count": 11,
   "metadata": {},
   "outputs": [
    {
     "data": {
      "image/png": "[encoded data removed]",
      "text/plain": [
       "<Figure size 640x480 with 1 Axes>"
      ]
     },
     "metadata": {},
     "output_type": "display_data"
    }
   ],
   "source": [
    "import matplotlib.pyplot as plt\n",
    "import numpy as np\n",
    "\n",
    "np.random.seed(seed=0) #seteamos la semilla para obtener siempre el mismo resultado de números random\n",
    "x = np.random.randn(1000) #creamos matriz random con 1000 items\n",
    "\n",
    "hist, bin_edges = np.histogram(x, bins=10)\n",
    "fig, ax = plt.subplots() #creamos lienzo de fondo\n",
    "ax.hist(x, bin_edges, cumulative=False)\n",
    "ax.set_xlabel('x') #etiqueta eje x\n",
    "ax.set_ylabel('Frequency') #etiqueta eje y\n",
    "plt.show() #imprimimos"
   ]
  },
  {
   "cell_type": "markdown",
   "metadata": {},
   "source": [
    "#### PIE CHARTS - PASTEL"
   ]
  },
  {
   "cell_type": "code",
   "execution_count": 12,
   "metadata": {},
   "outputs": [
    {
     "data": {
      "image/png": "[encoded data removed]",
      "text/plain": [
       "<Figure size 640x480 with 1 Axes>"
      ]
     },
     "metadata": {},
     "output_type": "display_data"
    }
   ],
   "source": [
    "x, y, z = 128, 256, 1024\n",
    "fig, ax = plt.subplots()\n",
    "ax.pie((x, y, z), labels=('x', 'y', 'z'), autopct='%1.1f%%')\n",
    "plt.show()"
   ]
  },
  {
   "cell_type": "markdown",
   "metadata": {},
   "source": [
    "#### GRÁFICO DE BARRAS"
   ]
  },
  {
   "cell_type": "code",
   "execution_count": 16,
   "metadata": {},
   "outputs": [
    {
     "data": {
      "image/png": "[encoded data removed]",
      "text/plain": [
       "<Figure size 640x480 with 1 Axes>"
      ]
     },
     "metadata": {},
     "output_type": "display_data"
    }
   ],
   "source": [
    "import matplotlib.pyplot as plt\n",
    "import numpy as np\n",
    "\n",
    "x = np.arange(21) #obtenemos matriz de números consecutivos del 0 al 20\n",
    "y = np.random.randint(21, size=21) #enteros random del 0 al 20 distribuidos uniformemente. Representa las frecuencias\n",
    "err = np.abs(np.random.randn(21)) #contiene números decimales distribuídos normalmente, que son los errores\n",
    "\n",
    "fig, ax = plt.subplots()\n",
    "ax.bar(x, y, yerr=err)\n",
    "ax.set_xlabel('x')\n",
    "ax.set_ylabel('y')\n",
    "plt.show()\n",
    "\n",
    "\n",
    "\"\"\" \n",
    "The heights of the red bars correspond to the frequencies y, while the lengths of the black lines show the errors err. \n",
    "If you don’t want to include the errors, then omit the parameter yerr of .bar().\n",
    "You can create a bar chart with .bar() if you want vertical bars or .barh() if you’d like horizontal bars.\n",
    "\"\"\" "
   ]
  },
  {
   "cell_type": "markdown",
   "metadata": {},
   "source": [
    "###  X-Y GRÁFICO O GRÁFICO DE DISPERSIÓN (SCATTER PLOT)"
   ]
  },
  {
   "cell_type": "code",
   "execution_count": 21,
   "metadata": {},
   "outputs": [
    {
     "name": "stdout",
     "output_type": "stream",
     "text": [
      "[ 0  1  2  3  4  5  6  7  8  9 10 11 12 13 14 15 16 17 18 19 20]\n",
      "[ 5.38979231  7.86398064 10.34352373 12.28191264 12.16382543 17.29792155\n",
      " 16.89656991 20.47868163 21.15449038 19.99953076 22.25152287 29.1916689\n",
      " 28.78884851 29.07526545 36.12090669 34.85970326 37.42603937 37.9311472\n",
      " 41.88434622 41.28120693 46.90938875]\n"
     ]
    }
   ],
   "source": [
    "import scipy.stats\n",
    "\n",
    "x = np.arange(21) #matriz con los enteros del 0 al 20\n",
    "y = 5 + 2 * x + 2 * np.random.randn(21) #función que define y a partir de x\n",
    "slope, intercept, r, *__ = scipy.stats.linregress(x, y)\n",
    "line = f'Regression line: y={intercept:.2f}+{slope:.2f}x, r={r:.2f}'\n",
    "\n",
    "plt.style.use('ggplot')\n",
    "\n",
    "print(x)\n",
    "print(y)"
   ]
  },
  {
   "cell_type": "code",
   "execution_count": 22,
   "metadata": {},
   "outputs": [
    {
     "data": {
      "image/png": "[encoded data removed]",
      "text/plain": [
       "<Figure size 640x480 with 1 Axes>"
      ]
     },
     "metadata": {},
     "output_type": "display_data"
    }
   ],
   "source": [
    "fig, ax = plt.subplots()\n",
    "ax.plot(x, y, linewidth=0, marker='s', label='Data points')\n",
    "ax.plot(x, intercept + slope * x, label=line)\n",
    "ax.set_xlabel('x')\n",
    "ax.set_ylabel('y')\n",
    "ax.legend(facecolor='white')\n",
    "plt.show()"
   ]
  },
  {
   "cell_type": "markdown",
   "metadata": {},
   "source": [
    "### MAPA DE CALOR"
   ]
  },
  {
   "cell_type": "code",
   "execution_count": 24,
   "metadata": {},
   "outputs": [
    {
     "data": {
      "image/png": "[encoded data removed]",
      "text/plain": [
       "<Figure size 640x480 with 1 Axes>"
      ]
     },
     "metadata": {},
     "output_type": "display_data"
    }
   ],
   "source": [
    "\"\"\"\n",
    "Heatmaps are particularly useful for illustrating the covariance and correlation matrices. \n",
    "You can create the heatmap for a covariance matrix with .imshow():\n",
    "\"\"\"\n",
    "\n",
    "matrix = np.cov(x, y).round(decimals=2)\n",
    "fig, ax = plt.subplots()\n",
    "ax.imshow(matrix)\n",
    "ax.grid(False)\n",
    "ax.xaxis.set(ticks=(0, 1), ticklabels=('x', 'y'))\n",
    "ax.yaxis.set(ticks=(0, 1), ticklabels=('x', 'y'))\n",
    "ax.set_ylim(1.5, -0.5)\n",
    "for i in range(2):\n",
    "    for j in range(2):\n",
    "        ax.text(j, i, matrix[i, j], ha='center', va='center', color='w')\n",
    "plt.show()"
   ]
  }
 ],
 "metadata": {
  "kernelspec": {
   "display_name": "Python 3",
   "language": "python",
   "name": "python3"
  },
  "language_info": {
   "codemirror_mode": {
    "name": "ipython",
    "version": 3
   },
   "file_extension": ".py",
   "mimetype": "text/x-python",
   "name": "python",
   "nbconvert_exporter": "python",
   "pygments_lexer": "ipython3",
   "version": "3.12.3"
  }
 },
 "nbformat": 4,
 "nbformat_minor": 2
}
