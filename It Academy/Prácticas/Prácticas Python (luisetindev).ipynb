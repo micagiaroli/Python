{
 "cells": [
  {
   "cell_type": "markdown",
   "metadata": {},
   "source": [
    "### Prácticas Python"
   ]
  },
  {
   "cell_type": "markdown",
   "metadata": {},
   "source": [
    "1) Haz una calculadora"
   ]
  },
  {
   "cell_type": "code",
   "execution_count": 1,
   "metadata": {},
   "outputs": [
    {
     "name": "stdout",
     "output_type": "stream",
     "text": [
      "El resultado de 5 - 4 = 1\n"
     ]
    }
   ],
   "source": [
    "def calculadora():\n",
    "    num1 = int(input(\"Número 1: \"))\n",
    "    num2 = int(input(\"Número 2: \"))\n",
    "    operacion = input(\"Introduce una operación (+ - * /): \")\n",
    "\n",
    "    match operacion:\n",
    "        case \"+\":\n",
    "            res = num1+num2\n",
    "        case \"-\":\n",
    "            res = num1-num2\n",
    "        case \"*\":\n",
    "            res = num1*num2\n",
    "        case \"/\":\n",
    "            res = num1/num2\n",
    "\n",
    "    print(f\"El resultado de {num1} {operacion} {num2} = {res}\")\n",
    "\n",
    "calculadora()"
   ]
  },
  {
   "cell_type": "markdown",
   "metadata": {},
   "source": [
    "2) Simula el juego de piedra, papel o tijera"
   ]
  },
  {
   "cell_type": "code",
   "execution_count": 6,
   "metadata": {},
   "outputs": [
    {
     "name": "stdout",
     "output_type": "stream",
     "text": [
      "Has perdido!El ordenadora ha escogido papel y tú piedra.\n"
     ]
    }
   ],
   "source": [
    "import  random \n",
    "\n",
    "def piedra_papel_tijera():\n",
    "\n",
    "    opciones = [\"tijera\", \"papel\", \"piedra\"]\n",
    "\n",
    "    usuario = input(\"Elige piedra, papel o tijera\").lower()\n",
    "    ordenador = random.choice(opciones)\n",
    "\n",
    "    if usuario not in opciones:\n",
    "        print(\"Error! Debes elegir entre piedra, papel o tijera.\")\n",
    "        quit()\n",
    "\n",
    "    if usuario == ordenador:\n",
    "        print(\"Empate\")\n",
    "    elif usuario == \"tijera\" and ordenador == \"piedra\" or usuario == \"piedra\" and ordenador == \"papel\" or usuario ==\"papel\" and ordenador == \"tijera\":\n",
    "        print(f\"Has perdido!El ordenadora ha escogido {ordenador} y tú {usuario}.\")\n",
    "    else: \n",
    "        print(f\"Has ganado! El ordenadora ha escogido {ordenador} y tú {usuario}.\")\n",
    "\n",
    "piedra_papel_tijera()"
   ]
  },
  {
   "cell_type": "markdown",
   "metadata": {},
   "source": [
    "3) Imprime una tabla de multiplicación de un número n"
   ]
  },
  {
   "cell_type": "code",
   "execution_count": 7,
   "metadata": {},
   "outputs": [
    {
     "name": "stdout",
     "output_type": "stream",
     "text": [
      "9 x 1 = 9\n",
      "9 x 2 = 18\n",
      "9 x 3 = 27\n",
      "9 x 4 = 36\n",
      "9 x 5 = 45\n",
      "9 x 6 = 54\n",
      "9 x 7 = 63\n",
      "9 x 8 = 72\n",
      "9 x 9 = 81\n",
      "9 x 10 = 90\n"
     ]
    }
   ],
   "source": [
    "n = int(input(\"Escoge un número\"))\n",
    "for i in range(1,11):\n",
    "    print(f\"{n} x {i} = {n*i}\")"
   ]
  },
  {
   "cell_type": "markdown",
   "metadata": {},
   "source": [
    "4) Haz una función que reciba un número N y diga si es divisible por 2, 3 o 5"
   ]
  },
  {
   "cell_type": "code",
   "execution_count": 12,
   "metadata": {},
   "outputs": [
    {
     "name": "stdout",
     "output_type": "stream",
     "text": [
      "True\n",
      "True\n",
      "False\n"
     ]
    }
   ],
   "source": [
    "def es_divisible(n):\n",
    "    if n % 2 == 0 or n % 3 == 0 or n % 5 == 0:\n",
    "        return True\n",
    "    return False\n",
    "\n",
    "print(es_divisible(10))\n",
    "print(es_divisible(18)) \n",
    "print(es_divisible(37))"
   ]
  },
  {
   "cell_type": "markdown",
   "metadata": {},
   "source": [
    "5) Haz una clase cuenta con titular, IBAN y saldo donde se pueda ingresar y extraer dinero"
   ]
  },
  {
   "cell_type": "code",
   "execution_count": 18,
   "metadata": {},
   "outputs": [
    {
     "name": "stdout",
     "output_type": "stream",
     "text": [
      "Has ingresado 350\n",
      "Has retirado 200\n",
      "Tu saldo es 250\n"
     ]
    }
   ],
   "source": [
    "class Cuenta: \n",
    "    def __init__(self, titular, iban, saldo):\n",
    "        self.titular =titular\n",
    "        self.iban = iban\n",
    "        self.saldo = saldo\n",
    "\n",
    "    def ingreso(self, cantidad):\n",
    "        self.saldo += cantidad\n",
    "        print(f\"Has ingresado {cantidad}\")\n",
    "\n",
    "    def retirada( self, cantidad):\n",
    "        if cantidad <= self.saldo:\n",
    "            self.saldo -= cantidad\n",
    "            print(f\"Has retirado {cantidad}\")\n",
    "        else:\n",
    "            print(\"No tienes habilitado girar en descubierto.\")\n",
    "\n",
    "cuenta1 = Cuenta(\"Mica\", \"ES78\", 100)\n",
    "\n",
    "cuenta1.ingreso(350)\n",
    "cuenta1.retirada(200)\n",
    "\n",
    "print(f\"Tu saldo es {cuenta1.saldo}\")     "
   ]
  }
 ],
 "metadata": {
  "kernelspec": {
   "display_name": "Python 3",
   "language": "python",
   "name": "python3"
  },
  "language_info": {
   "codemirror_mode": {
    "name": "ipython",
    "version": 3
   },
   "file_extension": ".py",
   "mimetype": "text/x-python",
   "name": "python",
   "nbconvert_exporter": "python",
   "pygments_lexer": "ipython3",
   "version": "3.12.3"
  }
 },
 "nbformat": 4,
 "nbformat_minor": 2
}
