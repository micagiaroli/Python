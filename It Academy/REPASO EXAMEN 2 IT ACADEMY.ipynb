{
 "cells": [
  {
   "cell_type": "markdown",
   "metadata": {},
   "source": [
    "## 1 y 2: Conexión MYSQL - PYTHON, Guardamos DFs\n",
    "\n",
    "* Cambiar 'database' y 'nombre_tablas'"
   ]
  },
  {
   "cell_type": "code",
   "execution_count": null,
   "metadata": {},
   "outputs": [],
   "source": [
    "# Primero, instalamos las bibliotecas que utilizaremos en la terminal con pip install\n",
    "# Instaladas las librerías necesarias, las importamos \n",
    "import pandas as pd\n",
    "from sqlalchemy import create_engine\n",
    "\n",
    "# Conectamos a la base de datos\n",
    "host ='localhost'\n",
    "database='transactionsT4'\n",
    "user='root'\n",
    "password='4443'\n",
    "\n",
    "# Creamos una cadena de conexión\n",
    "cadena_conexion = f'mysql+mysqlconnector://{user}:{password}@{host}/{database}'\n",
    "\n",
    "# Creamos el motor de conexión\n",
    "motor = create_engine(cadena_conexion)\n",
    "\n",
    "# Creamos una lista de las tablas a cargar\n",
    "nombres_tablas = ['transactions', 'credit_cards', 'companies', 'products_per_transactions', 'products', 'users_all']\n",
    "\n",
    "# Usamos el método globals() y con un bucle for leemos cada tabla en un DataFrame para almacenarlo en el diccionario\n",
    "for nombre in nombres_tablas:\n",
    "    query = f'SELECT * FROM {nombre}'\n",
    "    df_name = f'df_{nombre}'\n",
    "    globals()[df_name] = pd.read_sql(query, con=motor)"
   ]
  },
  {
   "cell_type": "markdown",
   "metadata": {},
   "source": [
    "## 3. Mostrar info de un DF\n",
    "\n",
    "* Info:"
   ]
  },
  {
   "cell_type": "code",
   "execution_count": null,
   "metadata": {},
   "outputs": [],
   "source": [
    "df_nombre.info()"
   ]
  },
  {
   "cell_type": "markdown",
   "metadata": {},
   "source": [
    "* Primeras 5 filas:"
   ]
  },
  {
   "cell_type": "markdown",
   "metadata": {},
   "source": [
    "df_nombre.head()"
   ]
  },
  {
   "cell_type": "markdown",
   "metadata": {},
   "source": [
    "* Últimas 5 filas:"
   ]
  },
  {
   "cell_type": "code",
   "execution_count": null,
   "metadata": {},
   "outputs": [],
   "source": [
    "df_nombre.tail()"
   ]
  },
  {
   "cell_type": "markdown",
   "metadata": {},
   "source": [
    "* Tipo de datos:"
   ]
  },
  {
   "cell_type": "code",
   "execution_count": null,
   "metadata": {},
   "outputs": [],
   "source": [
    "df_nombre.dtypes"
   ]
  },
  {
   "cell_type": "markdown",
   "metadata": {},
   "source": [
    "* Cantidad de filas y columnas"
   ]
  },
  {
   "cell_type": "code",
   "execution_count": null,
   "metadata": {},
   "outputs": [],
   "source": [
    "df_nombre.shape"
   ]
  },
  {
   "cell_type": "markdown",
   "metadata": {},
   "source": [
    "## 4. Crear una nueva columna partiendo de otra"
   ]
  },
  {
   "cell_type": "markdown",
   "metadata": {},
   "source": [
    "* Ejemplo condición:"
   ]
  },
  {
   "cell_type": "code",
   "execution_count": null,
   "metadata": {},
   "outputs": [],
   "source": [
    "# Crear una nueva columna 'condicion' \n",
    "df_nombre['columna_condicion'] = ['Menor edad' if x < 21 else ('Joven' if x < 35 else 'Adulto') for x in df_nombre['columna_antigua']]\n",
    "df_nombre"
   ]
  },
  {
   "cell_type": "markdown",
   "metadata": {},
   "source": [
    "* Ejemplo monto total:"
   ]
  },
  {
   "cell_type": "code",
   "execution_count": null,
   "metadata": {},
   "outputs": [],
   "source": [
    "# sintaxis\n",
    "df_nombre['columna_nueva']= df_nombre.groupby('columna_que_agrupa', sort= False/True)['columna_agrupada'].sum()\n",
    "\n",
    "# ejemplo\n",
    "df_transactions['monto_total']= transactions.groupby('business_id', sort= True)['amount'].sum()\n"
   ]
  },
  {
   "cell_type": "markdown",
   "metadata": {},
   "source": [
    "* Ejemplo 1 o 0"
   ]
  },
  {
   "cell_type": "code",
   "execution_count": null,
   "metadata": {},
   "outputs": [],
   "source": [
    "df_nombre['condicion'] = df_nombre['amount'].apply(lambda x: '1' if x > 100 else '0')\n",
    "df_nombre"
   ]
  },
  {
   "cell_type": "markdown",
   "metadata": {},
   "source": [
    "### ¡ANTES DE GRAFICAR!\n",
    "* Importo librerías\n",
    "* Defino un estilo"
   ]
  },
  {
   "cell_type": "code",
   "execution_count": null,
   "metadata": {},
   "outputs": [],
   "source": [
    "#Importamos librerías\n",
    "import pandas as pd\n",
    "import numpy as np\n",
    "import matplotlib.pyplot as plt \n",
    "import seaborn as sns\n",
    "\n",
    "# Definimos un estilo\n",
    "plt.style.use('seaborn-v0_8-pastel')\n",
    "\n",
    "\n",
    "## Para ver estilos disponibles:\n",
    "## print(plt.style.available)\n",
    "## algunos son: ['classic', 'fast', 'fivethirtyeight', 'ggplot', 'seaborn-colorblind','seaborn-pastel','tableau-colorblind10']"
   ]
  },
  {
   "cell_type": "markdown",
   "metadata": {},
   "source": [
    "## 5. Gráfica de una variable categórica"
   ]
  },
  {
   "cell_type": "code",
   "execution_count": null,
   "metadata": {},
   "outputs": [],
   "source": [
    "# Con Countplot Seaborn cuenta automáticamente los registros\n",
    "# Graficamos \n",
    "sns.countplot(y='paises', hue='paises', width=0.6, data=df_nombre)\n",
    "plt.xlabel('Cantidad de Usuarios')\n",
    "plt.ylabel('País')\n",
    "plt.title('Cantidad de Usuarios por País')\n",
    "plt.show()"
   ]
  },
  {
   "cell_type": "markdown",
   "metadata": {},
   "source": [
    "## 6. Gráfica de una variable numérica"
   ]
  },
  {
   "cell_type": "code",
   "execution_count": null,
   "metadata": {},
   "outputs": [],
   "source": [
    "# Gráfico histograma con Seaborn\n",
    "sns.histplot(df_nombre['columna'], kde=False)\n",
    "plt.xlabel('LABEL EJE X')\n",
    "plt.ylabel('LABEL EJ Y')\n",
    "plt.title('TÍTULO DEL GRÁFICO')\n",
    "plt.legend( )\n",
    "plt.show()"
   ]
  },
  {
   "cell_type": "markdown",
   "metadata": {},
   "source": [
    "# Gráfica que relaciones dos variables numéricas\n",
    "* Gráfico de dispersión:"
   ]
  },
  {
   "cell_type": "code",
   "execution_count": null,
   "metadata": {},
   "outputs": [],
   "source": [
    "# si las variables están en distinto df los unimos antes:\n",
    "nuevo_df = pd.merge(df_nombre1, df_nombre2, left_on='campo1', right_on='campo2')\n",
    "\n",
    "\n",
    "# si las variables están en el mismo df:\n",
    "plt.scatter(df_nombre['columna_x'], df_nombre['columna_y'])\n",
    "plt.xlabel('Columna X')\n",
    "plt.ylabel('Columna Y')\n",
    "plt.title('Diagrama de dispersión Peso vs. Altura')\n",
    "plt.show()"
   ]
  },
  {
   "cell_type": "markdown",
   "metadata": {},
   "source": [
    "## 8. Gráfica que relacione una variable numérica y una categórica\n",
    "* Podría ser un pastel o un gráfico de barras"
   ]
  },
  {
   "cell_type": "code",
   "execution_count": null,
   "metadata": {},
   "outputs": [],
   "source": [
    "# Ejemplo con un Pie\n",
    "usuarios_por_pais = df_nombre.groupby('VARIABLE CATEGÓRICA')['DATO A CONTAR ASOCIADO A VARIABLE CATEGÓRICA'].count()\n",
    "\n",
    "print(usuarios_por_pais)\n",
    "\n",
    "# Creamos gráfico de pastel\n",
    "plt.figure(figsize=(14, 8))\n",
    "usuarios_por_pais.plot(kind='pie', autopct='%1.1f%%', startangle=80)\n",
    "\n",
    "plt.title('Título gráfico')\n",
    "plt.axis('equal') \n",
    "plt.legend(title='Título leyenda')\n",
    "plt.show()"
   ]
  },
  {
   "cell_type": "code",
   "execution_count": null,
   "metadata": {},
   "outputs": [],
   "source": [
    "# Gráfico de barras\n",
    "\n",
    "ventas_por_compañia = _df.groupby('VARIABLE CATEGÓRICA')['VARIABLE NUMÉRICA'].sum()\n",
    "\n",
    "# poner un solo nombre tipo ventas\n",
    "ventas = ventas_por_compañia.sort_values(ascending=False).head(5) # utilizo el head si hay mucha información\n",
    "\n",
    "#print(ventas_por_compañia)\n",
    "\n",
    "\n",
    "# Creación del gráfico\n",
    "plt.figure(figsize=(16, 8))\n",
    "ventas.plot(kind='bar')\n",
    "plt.xlabel('CATEGORÍA')\n",
    "plt.ylabel('Valor')\n",
    "plt.title('Título del Gráfico')\n",
    "plt.xticks(rotation=80)  \n",
    "plt.show()"
   ]
  },
  {
   "cell_type": "markdown",
   "metadata": {},
   "source": [
    "## 9. Gráfica de dos variables categóricas y una numérica\n",
    "* NOTA: boxplot, violinplot -- si en la representación de boxplot o violinplot añadimos hue, añadimos una variable categórica"
   ]
  },
  {
   "cell_type": "code",
   "execution_count": null,
   "metadata": {},
   "outputs": [],
   "source": [
    "#barplot\n",
    "plt.figure(figsize=(14, 6))\n",
    "ax = sns.barplot(x='variable_categorica1', y='variable_numerica', data=dataframe, hue='variable_categorica2', errorbar=None)\n",
    "\n",
    "plt.title('Titulo_barplot')\n",
    "plt.xlabel('Titulo_eje_x')\n",
    "plt.ylabel('Titulo_eje_y')\n",
    "\n",
    "ax.tick_params(axis='x', labelrotation=45)\n",
    "\n",
    "plt.tight_layout()\n",
    "plt.show()"
   ]
  },
  {
   "cell_type": "markdown",
   "metadata": {},
   "source": [
    "## 10. Una gráfica en PowerBI"
   ]
  },
  {
   "cell_type": "code",
   "execution_count": null,
   "metadata": {},
   "outputs": [],
   "source": [
    "1º Copiar el script de la conexión.\n",
    "2º Copiar el script de la carga de los DF.\n",
    "\n",
    "# OJO al cargar: si hay variables a transformar antes. Cambiar '.' por ',' en los números.\n",
    "\n",
    "# OJO al graficar:\n",
    "## elimina duplicados -> Añadir en 'Valores' algún campo que sea PK o único\n",
    "## Importar todas las librerías necesarias en el código de cada gráfico.\n",
    "## Editar el código y añadir 'dataset'\n",
    "## No olvidar plt.show()"
   ]
  },
  {
   "cell_type": "markdown",
   "metadata": {},
   "source": [
    "## 11. Eliminar la base de datos y cerrar conexiones"
   ]
  },
  {
   "cell_type": "code",
   "execution_count": null,
   "metadata": {},
   "outputs": [],
   "source": [
    "# Obtenemos los nombres de todas las tablas en la base de datos\n",
    "nombres_tablas = motor.table_names()\n",
    "\n",
    "# Eliminamos cada tabla en la base de datos\n",
    "with motor.connect() as conexion:\n",
    "    for nombre in nombres_tablas:\n",
    "        conexion.execute(f'DROP TABLE {nombre}')\n",
    "\n",
    "#cerrar la conexión\n",
    "motor.dispose()\n",
    "\n",
    "#eliminar bbdd en MySQL\n",
    "DROP DATABASE <name>;"
   ]
  },
  {
   "cell_type": "markdown",
   "metadata": {},
   "source": [
    "## EXTRAS:"
   ]
  },
  {
   "cell_type": "code",
   "execution_count": null,
   "metadata": {},
   "outputs": [],
   "source": [
    "# CAMBIAR DE NOMBRE A UNA COLUMNA\n",
    "df_nombre.rename(columns={'NOMBRE_ANTIGUO': 'NOMBRE_NUEVO'}, inplace=True)\n",
    "\n",
    "# REMPLAZAR PARÁMETRO NO DESEADO $ POR NADA (ELMINIAR $) Y CAMBIAR A FLOAT\n",
    "df_nombre['NOMBRE_COLUMNA'] = df_nombre['NOMBRE_COLUMNA'].replace('$', '', regex=True).astype(float)\n",
    "\n",
    "# CAMBIAR DATATYPE A UNA COLUMNA\n",
    "df_nombre['NOMBRE_COLUMNA'] = df_nombre['NOMBRE_COLUMNA'].astype(DATATYPE)\n",
    "\n",
    "# FILTRAR UN DF\n",
    "df_filtered = df_nombre[(df_nombre['columna'] >= 40) & (df_nombre['columna'] <= 150)]"
   ]
  }
 ],
 "metadata": {
  "kernelspec": {
   "display_name": "Python 3",
   "language": "python",
   "name": "python3"
  },
  "language_info": {
   "codemirror_mode": {
    "name": "ipython",
    "version": 3
   },
   "file_extension": ".py",
   "mimetype": "text/x-python",
   "name": "python",
   "nbconvert_exporter": "python",
   "pygments_lexer": "ipython3",
   "version": "3.12.3"
  }
 },
 "nbformat": 4,
 "nbformat_minor": 2
}
